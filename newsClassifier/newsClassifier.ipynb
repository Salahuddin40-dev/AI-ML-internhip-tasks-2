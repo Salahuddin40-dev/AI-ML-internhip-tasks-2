{
 "cells": [
  {
   "cell_type": "code",
   "execution_count": null,
   "id": "5e5fe3af-a961-4bdf-963a-dbdbbda8d0a2",
   "metadata": {},
   "outputs": [],
   "source": [
    "#  Step 1: Install required libraries\n",
    "!pip install --upgrade transformers datasets scikit-learn\n"
   ]
  },
  {
   "cell_type": "code",
   "execution_count": null,
   "id": "4cff5fd8-1a9e-418c-82ff-4c8fb21a8b13",
   "metadata": {},
   "outputs": [],
   "source": [
    "\n",
    "#  Step 2: Import libraries\n",
    "from datasets import load_dataset\n",
    "from transformers import BertTokenizer, BertForSequenceClassification, Trainer, TrainingArguments\n",
    "from transformers import DataCollatorWithPadding\n",
    "from sklearn.metrics import accuracy_score, f1_score\n",
    "import torch\n"
   ]
  },
  {
   "cell_type": "code",
   "execution_count": null,
   "id": "2d02a42b-6141-41d0-a1f5-8e860a16c8b0",
   "metadata": {},
   "outputs": [],
   "source": [
    "\n",
    "#  Step 3: Load the AG News dataset (train + test)\n",
    "dataset = load_dataset(\"ag_news\")\n"
   ]
  },
  {
   "cell_type": "code",
   "execution_count": null,
   "id": "105604f1-e3af-4b24-b349-87302380f6c2",
   "metadata": {},
   "outputs": [],
   "source": [
    "\n",
    "#  Step 4: Load the pre-trained BERT tokenizer\n",
    "tokenizer = BertTokenizer.from_pretrained(\"bert-base-uncased\")\n"
   ]
  },
  {
   "cell_type": "code",
   "execution_count": null,
   "id": "4c32d871-1953-4849-a741-6df16a2a7310",
   "metadata": {},
   "outputs": [],
   "source": [
    "\n",
    "#  Step 5: Tokenize the text column\n",
    "def tokenize(example):\n",
    "    return tokenizer(example[\"text\"], truncation=True)\n",
    "# Apply tokenizer to all samples\n",
    "tokenized_dataset = dataset.map(tokenize, batched=True)"
   ]
  },
  {
   "cell_type": "code",
   "execution_count": null,
   "id": "59fafec7-4d28-49dd-ac0c-86aa8cae0dd1",
   "metadata": {},
   "outputs": [],
   "source": [
    "\n",
    "\n",
    "\n",
    "#  Step 6: Use DataCollator to automatically handle padding\n",
    "data_collator = DataCollatorWithPadding(tokenizer=tokenizer)\n"
   ]
  },
  {
   "cell_type": "code",
   "execution_count": null,
   "id": "b139cd33-c766-4b11-9498-b07d51327326",
   "metadata": {},
   "outputs": [],
   "source": [
    "\n",
    "#  Step 7: Load pre-trained BERT model for classification (4 labels)\n",
    "model = BertForSequenceClassification.from_pretrained(\"bert-base-uncased\", num_labels=4)\n"
   ]
  },
  {
   "cell_type": "code",
   "execution_count": null,
   "id": "eaa1df8a-a6d4-4907-b9a8-37d154afa600",
   "metadata": {},
   "outputs": [],
   "source": [
    "\n",
    "#  Step 8: Define evaluation metrics (accuracy and F1-score)\n",
    "def compute_metrics(eval_pred):\n",
    "    logits, labels = eval_pred\n",
    "    predictions = torch.argmax(torch.tensor(logits), dim=1)\n",
    "    acc = accuracy_score(labels, predictions)\n",
    "    f1 = f1_score(labels, predictions, average=\"weighted\")\n",
    "    return {\"accuracy\": acc, \"f1\": f1}\n"
   ]
  },
  {
   "cell_type": "code",
   "execution_count": null,
   "id": "a1bab9e8-edfb-46ba-9531-3e05c0d8716a",
   "metadata": {},
   "outputs": [],
   "source": [
    "\n",
    "#  Step 9: Set training arguments\n",
    "training_args = TrainingArguments(\n",
    "    output_dir=\"./results\",               # where to save results\n",
    "    evaluation_strategy=\"epoch\",         # evaluate after each epoch\n",
    "    learning_rate=2e-5,\n",
    "    per_device_train_batch_size=16,\n",
    "    per_device_eval_batch_size=16,\n",
    "    num_train_epochs=3,\n",
    "    weight_decay=0.01,\n",
    "    save_strategy=\"epoch\",               # save model after every epoch\n",
    "    logging_dir=\"./logs\",\n",
    ")\n"
   ]
  },
  {
   "cell_type": "code",
   "execution_count": null,
   "id": "2dc639f4-c06f-443b-86c1-f8d6a99e86dc",
   "metadata": {},
   "outputs": [],
   "source": [
    "\n",
    "#  Step 10: Create Trainer object\n",
    "trainer = Trainer(\n",
    "    model=model,\n",
    "    args=training_args,\n",
    "    train_dataset=tokenized_dataset[\"train\"],\n",
    "    eval_dataset=tokenized_dataset[\"test\"],\n",
    "    tokenizer=tokenizer,\n",
    "    data_collator=data_collator,\n",
    "    compute_metrics=compute_metrics,\n",
    ")\n"
   ]
  },
  {
   "cell_type": "code",
   "execution_count": null,
   "id": "4f241fc0-f9bc-40bb-873c-8ec7f14ae178",
   "metadata": {},
   "outputs": [],
   "source": [
    "\n",
    "#  Step 11: Fine-tune the model on AG News\n",
    "trainer.train()\n"
   ]
  },
  {
   "cell_type": "code",
   "execution_count": null,
   "id": "b4b57340-533a-4b0b-bb3f-615fda76d6ff",
   "metadata": {},
   "outputs": [],
   "source": [
    "\n",
    "#  Step 12: Save the trained model and tokenizer\n",
    "trainer.save_model(\"news_bert_model\")\n",
    "tokenizer.save_pretrained(\"news_bert_model\")\n"
   ]
  }
 ],
 "metadata": {
  "kernelspec": {
   "display_name": "Python 3 (ipykernel)",
   "language": "python",
   "name": "python3"
  },
  "language_info": {
   "codemirror_mode": {
    "name": "ipython",
    "version": 3
   },
   "file_extension": ".py",
   "mimetype": "text/x-python",
   "name": "python",
   "nbconvert_exporter": "python",
   "pygments_lexer": "ipython3",
   "version": "3.13.2"
  }
 },
 "nbformat": 4,
 "nbformat_minor": 5
}
